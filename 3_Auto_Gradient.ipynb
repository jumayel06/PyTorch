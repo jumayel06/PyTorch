{
 "cells": [
  {
   "cell_type": "code",
   "execution_count": 1,
   "metadata": {
    "collapsed": true
   },
   "outputs": [],
   "source": [
    "import torch\n",
    "from torch.autograd import Variable"
   ]
  },
  {
   "cell_type": "code",
   "execution_count": 2,
   "metadata": {
    "collapsed": true
   },
   "outputs": [],
   "source": [
    "x_data = [1.0, 2.0, 3.0]\n",
    "y_data = [2.0, 4.0, 6.0]\n",
    "\n",
    "w = Variable(torch.Tensor([1.0]),  requires_grad=True)  # Any random value"
   ]
  },
  {
   "cell_type": "code",
   "execution_count": 3,
   "metadata": {
    "collapsed": true
   },
   "outputs": [],
   "source": [
    "def forward(x):\n",
    "    return x * w\n",
    "\n",
    "def loss(x, y):\n",
    "    y_pred = forward(x)\n",
    "    return (y_pred - y) * (y_pred - y)"
   ]
  },
  {
   "cell_type": "code",
   "execution_count": 4,
   "metadata": {},
   "outputs": [
    {
     "name": "stdout",
     "output_type": "stream",
     "text": [
      "predict (before training) 4 tensor(4.)\n",
      "\tgrad:  1.0 2.0 tensor(-2.)\n",
      "-> tensor([-2.])\n",
      "\tgrad:  2.0 4.0 tensor(-7.8400)\n",
      "-> tensor([-7.8400])\n",
      "\tgrad:  3.0 6.0 tensor(-16.2288)\n",
      "-> tensor([-16.2288])\n",
      "progress: 0 tensor(7.3159)\n",
      "---\n",
      "\tgrad:  1.0 2.0 tensor(-1.4786)\n",
      "-> tensor([-1.4786])\n",
      "\tgrad:  2.0 4.0 tensor(-5.7962)\n",
      "-> tensor([-5.7962])\n",
      "\tgrad:  3.0 6.0 tensor(-11.9981)\n",
      "-> tensor([-11.9981])\n",
      "progress: 1 tensor(3.9988)\n",
      "---\n",
      "\tgrad:  1.0 2.0 tensor(-1.0932)\n",
      "-> tensor([-1.0932])\n",
      "\tgrad:  2.0 4.0 tensor(-4.2852)\n",
      "-> tensor([-4.2852])\n",
      "\tgrad:  3.0 6.0 tensor(-8.8704)\n",
      "-> tensor([-8.8704])\n",
      "progress: 2 tensor(2.1857)\n",
      "---\n",
      "\tgrad:  1.0 2.0 tensor(-0.8082)\n",
      "-> tensor([-0.8082])\n",
      "\tgrad:  2.0 4.0 tensor(-3.1681)\n",
      "-> tensor([-3.1681])\n",
      "\tgrad:  3.0 6.0 tensor(-6.5580)\n",
      "-> tensor([-6.5580])\n",
      "progress: 3 tensor(1.1946)\n",
      "---\n",
      "\tgrad:  1.0 2.0 tensor(-0.5975)\n",
      "-> tensor([-0.5975])\n",
      "\tgrad:  2.0 4.0 tensor(-2.3422)\n",
      "-> tensor([-2.3422])\n",
      "\tgrad:  3.0 6.0 tensor(-4.8484)\n",
      "-> tensor([-4.8484])\n",
      "progress: 4 tensor(0.6530)\n",
      "---\n",
      "\tgrad:  1.0 2.0 tensor(-0.4417)\n",
      "-> tensor([-0.4417])\n",
      "\tgrad:  2.0 4.0 tensor(-1.7316)\n",
      "-> tensor([-1.7316])\n",
      "\tgrad:  3.0 6.0 tensor(-3.5845)\n",
      "-> tensor([-3.5845])\n",
      "progress: 5 tensor(0.3569)\n",
      "---\n",
      "\tgrad:  1.0 2.0 tensor(-0.3266)\n",
      "-> tensor([-0.3266])\n",
      "\tgrad:  2.0 4.0 tensor(-1.2802)\n",
      "-> tensor([-1.2802])\n",
      "\tgrad:  3.0 6.0 tensor(-2.6500)\n",
      "-> tensor([-2.6500])\n",
      "progress: 6 tensor(0.1951)\n",
      "---\n",
      "\tgrad:  1.0 2.0 tensor(-0.2414)\n",
      "-> tensor([-0.2414])\n",
      "\tgrad:  2.0 4.0 tensor(-0.9465)\n",
      "-> tensor([-0.9465])\n",
      "\tgrad:  3.0 6.0 tensor(-1.9592)\n",
      "-> tensor([-1.9592])\n",
      "progress: 7 tensor(0.1066)\n",
      "---\n",
      "\tgrad:  1.0 2.0 tensor(-0.1785)\n",
      "-> tensor([-0.1785])\n",
      "\tgrad:  2.0 4.0 tensor(-0.6997)\n",
      "-> tensor([-0.6997])\n",
      "\tgrad:  3.0 6.0 tensor(-1.4485)\n",
      "-> tensor([-1.4485])\n",
      "progress: 8 tensor(1.00000e-02 *\n",
      "       5.8279)\n",
      "---\n",
      "\tgrad:  1.0 2.0 tensor(-0.1320)\n",
      "-> tensor([-0.1320])\n",
      "\tgrad:  2.0 4.0 tensor(-0.5173)\n",
      "-> tensor([-0.5173])\n",
      "\tgrad:  3.0 6.0 tensor(-1.0709)\n",
      "-> tensor([-1.0709])\n",
      "progress: 9 tensor(1.00000e-02 *\n",
      "       3.1854)\n",
      "---\n",
      "predict (after training) 4 tensor(7.8049)\n"
     ]
    }
   ],
   "source": [
    "# Before training\n",
    "print(\"predict (before training)\",  4, forward(4).data[0])\n",
    "\n",
    "# Training loop\n",
    "for epoch in range(10):\n",
    "    for x_val, y_val in zip(x_data, y_data):\n",
    "        l = loss(x_val, y_val)\n",
    "        l.backward()\n",
    "        print(\"\\tgrad: \", x_val, y_val, w.grad.data[0])\n",
    "        w.data = w.data - 0.01 * w.grad.data\n",
    "        print(\"->\", w.grad.data)\n",
    "\n",
    "        # Manually zero the gradients after updating weights\n",
    "        w.grad.data.zero_()\n",
    "\n",
    "    print(\"progress:\", epoch, l.data[0])\n",
    "    print('---')\n",
    "\n",
    "# After training\n",
    "print(\"predict (after training)\",  4, forward(4).data[0])"
   ]
  },
  {
   "cell_type": "code",
   "execution_count": null,
   "metadata": {
    "collapsed": true
   },
   "outputs": [],
   "source": []
  }
 ],
 "metadata": {
  "kernelspec": {
   "display_name": "Python 3",
   "language": "python",
   "name": "python3"
  },
  "language_info": {
   "codemirror_mode": {
    "name": "ipython",
    "version": 3
   },
   "file_extension": ".py",
   "mimetype": "text/x-python",
   "name": "python",
   "nbconvert_exporter": "python",
   "pygments_lexer": "ipython3",
   "version": "3.6.3"
  }
 },
 "nbformat": 4,
 "nbformat_minor": 2
}
