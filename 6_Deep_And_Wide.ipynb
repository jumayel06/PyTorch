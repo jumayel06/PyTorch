{
 "cells": [
  {
   "cell_type": "code",
   "execution_count": 1,
   "metadata": {
    "collapsed": true
   },
   "outputs": [],
   "source": [
    "import torch\n",
    "from torch.autograd import Variable\n",
    "import numpy as np"
   ]
  },
  {
   "cell_type": "code",
   "execution_count": 2,
   "metadata": {},
   "outputs": [
    {
     "name": "stdout",
     "output_type": "stream",
     "text": [
      "torch.Size([759, 8])\n",
      "torch.Size([759, 1])\n"
     ]
    }
   ],
   "source": [
    "xy = np.loadtxt('datasets/diabetes.csv.gz', delimiter=',', dtype=np.float32)\n",
    "x_data = Variable(torch.from_numpy(xy[:, 0:-1]))\n",
    "y_data = Variable(torch.from_numpy(xy[:, [-1]]))\n",
    "\n",
    "print(x_data.data.shape)\n",
    "print(y_data.data.shape)"
   ]
  },
  {
   "cell_type": "code",
   "execution_count": 3,
   "metadata": {
    "collapsed": true
   },
   "outputs": [],
   "source": [
    "class Model(torch.nn.Module):\n",
    "    def __init__(self):\n",
    "        \"\"\"\n",
    "        In the constructor we instantiate two nn.Linear module\n",
    "        \"\"\"\n",
    "        super(Model, self).__init__()\n",
    "        self.l1 = torch.nn.Linear(8, 6)\n",
    "        self.l2 = torch.nn.Linear(6, 4)\n",
    "        self.l3 = torch.nn.Linear(4, 1)\n",
    "\n",
    "        self.sigmoid = torch.nn.Sigmoid()\n",
    "\n",
    "    def forward(self, x):\n",
    "        \"\"\"\n",
    "        In the forward function we accept a Variable of input data and we must return\n",
    "        a Variable of output data. We can use Modules defined in the constructor as\n",
    "        well as arbitrary operators on Variables.\n",
    "        \"\"\"\n",
    "        out1 = self.sigmoid(self.l1(x))\n",
    "        out2 = self.sigmoid(self.l2(out1))\n",
    "        y_pred = self.sigmoid(self.l3(out2))\n",
    "        return y_pred\n",
    "\n",
    "model = Model()"
   ]
  },
  {
   "cell_type": "code",
   "execution_count": 4,
   "metadata": {
    "collapsed": true
   },
   "outputs": [],
   "source": [
    "# Construct our loss function and an Optimizer. The call to model.parameters()\n",
    "# in the SGD constructor will contain the learnable parameters of the two\n",
    "# nn.Linear modules which are members of the model.\n",
    "criterion = torch.nn.BCELoss(size_average=True)\n",
    "optimizer = torch.optim.SGD(model.parameters(), lr=0.1)"
   ]
  },
  {
   "cell_type": "code",
   "execution_count": 5,
   "metadata": {},
   "outputs": [
    {
     "name": "stdout",
     "output_type": "stream",
     "text": [
      "0 tensor(0.7182)\n",
      "1 tensor(0.7112)\n",
      "2 tensor(0.7048)\n",
      "3 tensor(0.6991)\n",
      "4 tensor(0.6939)\n",
      "5 tensor(0.6892)\n",
      "6 tensor(0.6850)\n",
      "7 tensor(0.6811)\n",
      "8 tensor(0.6777)\n",
      "9 tensor(0.6745)\n",
      "10 tensor(0.6717)\n",
      "11 tensor(0.6691)\n",
      "12 tensor(0.6668)\n",
      "13 tensor(0.6647)\n",
      "14 tensor(0.6628)\n",
      "15 tensor(0.6611)\n",
      "16 tensor(0.6596)\n",
      "17 tensor(0.6582)\n",
      "18 tensor(0.6569)\n",
      "19 tensor(0.6558)\n",
      "20 tensor(0.6548)\n",
      "21 tensor(0.6538)\n",
      "22 tensor(0.6530)\n",
      "23 tensor(0.6522)\n",
      "24 tensor(0.6515)\n",
      "25 tensor(0.6509)\n",
      "26 tensor(0.6503)\n",
      "27 tensor(0.6498)\n",
      "28 tensor(0.6494)\n",
      "29 tensor(0.6489)\n",
      "30 tensor(0.6486)\n",
      "31 tensor(0.6482)\n",
      "32 tensor(0.6479)\n",
      "33 tensor(0.6476)\n",
      "34 tensor(0.6474)\n",
      "35 tensor(0.6471)\n",
      "36 tensor(0.6469)\n",
      "37 tensor(0.6467)\n",
      "38 tensor(0.6466)\n",
      "39 tensor(0.6464)\n",
      "40 tensor(0.6463)\n",
      "41 tensor(0.6462)\n",
      "42 tensor(0.6460)\n",
      "43 tensor(0.6459)\n",
      "44 tensor(0.6458)\n",
      "45 tensor(0.6458)\n",
      "46 tensor(0.6457)\n",
      "47 tensor(0.6456)\n",
      "48 tensor(0.6455)\n",
      "49 tensor(0.6455)\n",
      "50 tensor(0.6454)\n",
      "51 tensor(0.6454)\n",
      "52 tensor(0.6453)\n",
      "53 tensor(0.6453)\n",
      "54 tensor(0.6453)\n",
      "55 tensor(0.6452)\n",
      "56 tensor(0.6452)\n",
      "57 tensor(0.6452)\n",
      "58 tensor(0.6451)\n",
      "59 tensor(0.6451)\n",
      "60 tensor(0.6451)\n",
      "61 tensor(0.6451)\n",
      "62 tensor(0.6451)\n",
      "63 tensor(0.6450)\n",
      "64 tensor(0.6450)\n",
      "65 tensor(0.6450)\n",
      "66 tensor(0.6450)\n",
      "67 tensor(0.6450)\n",
      "68 tensor(0.6450)\n",
      "69 tensor(0.6450)\n",
      "70 tensor(0.6450)\n",
      "71 tensor(0.6450)\n",
      "72 tensor(0.6450)\n",
      "73 tensor(0.6449)\n",
      "74 tensor(0.6449)\n",
      "75 tensor(0.6449)\n",
      "76 tensor(0.6449)\n",
      "77 tensor(0.6449)\n",
      "78 tensor(0.6449)\n",
      "79 tensor(0.6449)\n",
      "80 tensor(0.6449)\n",
      "81 tensor(0.6449)\n",
      "82 tensor(0.6449)\n",
      "83 tensor(0.6449)\n",
      "84 tensor(0.6449)\n",
      "85 tensor(0.6449)\n",
      "86 tensor(0.6449)\n",
      "87 tensor(0.6449)\n",
      "88 tensor(0.6449)\n",
      "89 tensor(0.6449)\n",
      "90 tensor(0.6449)\n",
      "91 tensor(0.6449)\n",
      "92 tensor(0.6449)\n",
      "93 tensor(0.6449)\n",
      "94 tensor(0.6449)\n",
      "95 tensor(0.6449)\n",
      "96 tensor(0.6449)\n",
      "97 tensor(0.6449)\n",
      "98 tensor(0.6449)\n",
      "99 tensor(0.6449)\n"
     ]
    },
    {
     "name": "stderr",
     "output_type": "stream",
     "text": [
      "/Users/jumayelislam/anaconda3/lib/python3.6/site-packages/ipykernel_launcher.py:8: UserWarning: invalid index of a 0-dim tensor. This will be an error in PyTorch 0.5. Use tensor.item() to convert a 0-dim tensor to a Python number\n",
      "  \n"
     ]
    }
   ],
   "source": [
    "# Training loop\n",
    "for epoch in range(100):\n",
    "        # Forward pass: Compute predicted y by passing x to the model\n",
    "    y_pred = model(x_data)\n",
    "\n",
    "    # Compute and print loss\n",
    "    loss = criterion(y_pred, y_data)\n",
    "    print(epoch, loss.data[0])\n",
    "\n",
    "    # Zero gradients, perform a backward pass, and update the weights.\n",
    "    optimizer.zero_grad()\n",
    "    loss.backward()\n",
    "    optimizer.step()"
   ]
  },
  {
   "cell_type": "code",
   "execution_count": null,
   "metadata": {
    "collapsed": true
   },
   "outputs": [],
   "source": []
  }
 ],
 "metadata": {
  "kernelspec": {
   "display_name": "Python 3",
   "language": "python",
   "name": "python3"
  },
  "language_info": {
   "codemirror_mode": {
    "name": "ipython",
    "version": 3
   },
   "file_extension": ".py",
   "mimetype": "text/x-python",
   "name": "python",
   "nbconvert_exporter": "python",
   "pygments_lexer": "ipython3",
   "version": "3.6.3"
  }
 },
 "nbformat": 4,
 "nbformat_minor": 2
}
