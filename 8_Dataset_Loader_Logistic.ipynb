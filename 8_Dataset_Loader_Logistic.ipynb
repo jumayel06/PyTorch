{
 "cells": [
  {
   "cell_type": "code",
   "execution_count": 1,
   "metadata": {
    "collapsed": true
   },
   "outputs": [],
   "source": [
    "import torch\n",
    "import numpy as np\n",
    "from torch.autograd import Variable\n",
    "from torch.utils.data import Dataset, DataLoader"
   ]
  },
  {
   "cell_type": "code",
   "execution_count": 2,
   "metadata": {
    "collapsed": true
   },
   "outputs": [],
   "source": [
    "class DiabetesDataset(Dataset):\n",
    "    \"\"\" Diabetes dataset.\"\"\"\n",
    "    # Initialize your data, download, etc.\n",
    "    def __init__(self):\n",
    "        xy = np.loadtxt('datasets/diabetes.csv.gz', delimiter=',', dtype=np.float32)\n",
    "        self.len = xy.shape[0]\n",
    "        self.x_data = torch.from_numpy(xy[:, 0:-1])\n",
    "        self.y_data = torch.from_numpy(xy[:, [-1]])\n",
    "\n",
    "    def __getitem__(self, index):\n",
    "        return self.x_data[index], self.y_data[index]\n",
    "\n",
    "    def __len__(self):\n",
    "        return self.len\n",
    "\n",
    "\n",
    "dataset = DiabetesDataset()\n",
    "train_loader = DataLoader(dataset=dataset,\n",
    "                          batch_size=32,\n",
    "                          shuffle=True,\n",
    "                          num_workers=2)"
   ]
  },
  {
   "cell_type": "code",
   "execution_count": 3,
   "metadata": {
    "collapsed": true
   },
   "outputs": [],
   "source": [
    "class Model(torch.nn.Module):\n",
    "    def __init__(self):\n",
    "        \"\"\"\n",
    "        In the constructor we instantiate two nn.Linear module\n",
    "        \"\"\"\n",
    "        super(Model, self).__init__()\n",
    "        self.l1 = torch.nn.Linear(8, 6)\n",
    "        self.l2 = torch.nn.Linear(6, 4)\n",
    "        self.l3 = torch.nn.Linear(4, 1)\n",
    "\n",
    "        self.sigmoid = torch.nn.Sigmoid()\n",
    "\n",
    "    def forward(self, x):\n",
    "        \"\"\"\n",
    "        In the forward function we accept a Variable of input data and we must return\n",
    "        a Variable of output data. We can use Modules defined in the constructor as\n",
    "        well as arbitrary operators on Variables.\n",
    "        \"\"\"\n",
    "        out1 = self.sigmoid(self.l1(x))\n",
    "        out2 = self.sigmoid(self.l2(out1))\n",
    "        y_pred = self.sigmoid(self.l3(out2))\n",
    "        return y_pred\n",
    "\n",
    "model = Model()"
   ]
  },
  {
   "cell_type": "code",
   "execution_count": 4,
   "metadata": {
    "collapsed": true
   },
   "outputs": [],
   "source": [
    "# Construct our loss function and an Optimizer. The call to model.parameters()\n",
    "# in the SGD constructor will contain the learnable parameters of the two\n",
    "# nn.Linear modules which are members of the model.\n",
    "criterion = torch.nn.BCELoss(size_average=True)\n",
    "optimizer = torch.optim.SGD(model.parameters(), lr=0.1)"
   ]
  },
  {
   "cell_type": "code",
   "execution_count": 5,
   "metadata": {},
   "outputs": [
    {
     "name": "stdout",
     "output_type": "stream",
     "text": [
      "0 0 tensor(0.6505)\n",
      "0 1 tensor(0.6695)\n",
      "0 2 tensor(0.6685)\n",
      "0 3 tensor(0.6503)\n",
      "0 4 tensor(0.6565)\n",
      "0 5 tensor(0.6141)\n",
      "0 6 tensor(0.6754)\n",
      "0 7 tensor(0.6993)\n",
      "0 8 tensor(0.6078)\n",
      "0 9 tensor(0.6881)\n",
      "0 10 tensor(0.6506)\n",
      "0 11 tensor(0.6632)\n",
      "0 12 tensor(0.6238)\n",
      "0 13 tensor(0.6211)\n",
      "0 14 tensor(0.6908)\n",
      "0 15 tensor(0.6341)\n",
      "0 16 tensor(0.6324)\n",
      "0 17 tensor(0.6314)\n",
      "0 18 tensor(0.6931)\n",
      "0 19 tensor(0.7227)\n",
      "0 20 tensor(0.6472)\n",
      "0 21 tensor(0.6325)\n",
      "0 22 tensor(0.6621)\n",
      "0 23 tensor(0.5843)\n"
     ]
    },
    {
     "name": "stderr",
     "output_type": "stream",
     "text": [
      "/Users/jumayelislam/anaconda3/lib/python3.6/site-packages/ipykernel_launcher.py:15: UserWarning: invalid index of a 0-dim tensor. This will be an error in PyTorch 0.5. Use tensor.item() to convert a 0-dim tensor to a Python number\n",
      "  from ipykernel import kernelapp as app\n"
     ]
    },
    {
     "name": "stdout",
     "output_type": "stream",
     "text": [
      "1 0 tensor(0.6616)\n",
      "1 1 tensor(0.5799)\n",
      "1 2 tensor(0.6098)\n",
      "1 3 tensor(0.5897)\n",
      "1 4 tensor(0.7566)\n",
      "1 5 tensor(0.6795)\n",
      "1 6 tensor(0.6616)\n",
      "1 7 tensor(0.6105)\n",
      "1 8 tensor(0.6444)\n",
      "1 9 tensor(0.6444)\n",
      "1 10 tensor(0.7344)\n",
      "1 11 tensor(0.6451)\n",
      "1 12 tensor(0.6101)\n",
      "1 13 tensor(0.6621)\n",
      "1 14 tensor(0.6441)\n",
      "1 15 tensor(0.6625)\n",
      "1 16 tensor(0.6447)\n",
      "1 17 tensor(0.6086)\n",
      "1 18 tensor(0.7172)\n",
      "1 19 tensor(0.6266)\n",
      "1 20 tensor(0.6264)\n",
      "1 21 tensor(0.6809)\n",
      "1 22 tensor(0.6260)\n",
      "1 23 tensor(0.5698)\n"
     ]
    }
   ],
   "source": [
    "# Training loop\n",
    "for epoch in range(2):\n",
    "    for i, data in enumerate(train_loader, 0):\n",
    "        # get the inputs\n",
    "        inputs, labels = data\n",
    "\n",
    "        # wrap them in Variable\n",
    "        inputs, labels = Variable(inputs), Variable(labels)\n",
    "\n",
    "        # Forward pass: Compute predicted y by passing x to the model\n",
    "        y_pred = model(inputs)\n",
    "\n",
    "        # Compute and print loss\n",
    "        loss = criterion(y_pred, labels)\n",
    "        print(epoch, i, loss.data[0])\n",
    "\n",
    "        # Zero gradients, perform a backward pass, and update the weights.\n",
    "        optimizer.zero_grad()\n",
    "        loss.backward()\n",
    "        optimizer.step()"
   ]
  },
  {
   "cell_type": "code",
   "execution_count": null,
   "metadata": {
    "collapsed": true
   },
   "outputs": [],
   "source": []
  }
 ],
 "metadata": {
  "kernelspec": {
   "display_name": "Python 3",
   "language": "python",
   "name": "python3"
  },
  "language_info": {
   "codemirror_mode": {
    "name": "ipython",
    "version": 3
   },
   "file_extension": ".py",
   "mimetype": "text/x-python",
   "name": "python",
   "nbconvert_exporter": "python",
   "pygments_lexer": "ipython3",
   "version": "3.6.3"
  }
 },
 "nbformat": 4,
 "nbformat_minor": 2
}
